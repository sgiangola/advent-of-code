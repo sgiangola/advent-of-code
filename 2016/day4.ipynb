{
 "cells": [
  {
   "cell_type": "markdown",
   "metadata": {},
   "source": [
    "## part 1"
   ]
  },
  {
   "cell_type": "code",
   "execution_count": 1,
   "metadata": {
    "collapsed": true
   },
   "outputs": [],
   "source": [
    "import re"
   ]
  },
  {
   "cell_type": "code",
   "execution_count": 18,
   "metadata": {
    "collapsed": false
   },
   "outputs": [],
   "source": [
    "class roomCode(object):\n",
    "    \n",
    "    def __init__(self, code_input):\n",
    "        \n",
    "        self.code_string = code_input\n",
    "        \n",
    "        # get checksum value by searching for string between brackets\n",
    "        # and then removing the brackets\n",
    "        self.checksum = re.sub('\\[|\\]', '', re.findall('\\[.*\\]', code_input)[0])\n",
    "        \n",
    "        # find encrypted name value w/ regex pattern and then remove \"-\"\n",
    "        self.name_raw = re.match('([A-z]+\\-)+', code_input).group()\n",
    "        self.name = re.sub('-', '', self.name_raw)\n",
    "        \n",
    "        # find sector_id via regex pattern\n",
    "        self.sector_id = int(re.search('\\d+', code_input).group())\n",
    "        \n",
    "        self.checksum_source = self.get_count_string()\n",
    "        \n",
    "        if self.checksum_source == self.checksum:\n",
    "            self.valid = True\n",
    "        else:\n",
    "            self.valid = False\n",
    "        \n",
    "    def get_count_string(self):\n",
    "        \n",
    "        d = {i : self.name.count(i) for i in self.name}\n",
    "        \n",
    "        sort_groups = set(val for val in d.values())\n",
    "        \n",
    "        collector = {}\n",
    "        for g in sort_groups:\n",
    "            collector[g] = []\n",
    "            for key, val in d.items():\n",
    "                if val == g:\n",
    "                    collector[g].append(key)\n",
    "            \n",
    "        for key, val in collector.items():\n",
    "            collector[key] = ''.join(sorted(val))\n",
    "    \n",
    "        sort_list = sorted(collector)\n",
    "        sort_list.reverse()\n",
    "\n",
    "        return ''.join([collector[i] for i in sort_list])[0:5]\n",
    "            "
   ]
  },
  {
   "cell_type": "code",
   "execution_count": 19,
   "metadata": {
    "collapsed": true
   },
   "outputs": [],
   "source": [
    "infile = open('day4_input.txt').read().splitlines()"
   ]
  },
  {
   "cell_type": "code",
   "execution_count": 20,
   "metadata": {
    "collapsed": false
   },
   "outputs": [],
   "source": [
    "code_list = [roomCode(i) for i in infile]"
   ]
  },
  {
   "cell_type": "code",
   "execution_count": 21,
   "metadata": {
    "collapsed": true
   },
   "outputs": [],
   "source": [
    "sector_id_sum = 0\n",
    "for code in code_list:\n",
    "    if code.valid:\n",
    "        sector_id_sum += code.sector_id"
   ]
  },
  {
   "cell_type": "code",
   "execution_count": 22,
   "metadata": {
    "collapsed": false
   },
   "outputs": [
    {
     "data": {
      "text/plain": [
       "137896"
      ]
     },
     "execution_count": 22,
     "metadata": {},
     "output_type": "execute_result"
    }
   ],
   "source": [
    "sector_id_sum"
   ]
  },
  {
   "cell_type": "markdown",
   "metadata": {},
   "source": [
    "## part 2"
   ]
  },
  {
   "cell_type": "code",
   "execution_count": 122,
   "metadata": {
    "collapsed": true
   },
   "outputs": [],
   "source": [
    "rooms = []\n",
    "for code in code_list:\n",
    "    if code.valid:\n",
    "        rooms.append(code)"
   ]
  },
  {
   "cell_type": "code",
   "execution_count": 195,
   "metadata": {
    "collapsed": true
   },
   "outputs": [],
   "source": [
    "def decipher(code, shift):\n",
    "    return ''.join([alph_shifter(a, shift) for a in code])"
   ]
  },
  {
   "cell_type": "code",
   "execution_count": 216,
   "metadata": {
    "collapsed": false
   },
   "outputs": [],
   "source": [
    "def alph_shifter(letter, shift):\n",
    "    debug = False\n",
    "    alphabet = 'abcdefghijklmnopqrstuvxwyz'\n",
    "    \n",
    "    if not letter.isalpha():\n",
    "        return ' '\n",
    "    \n",
    "    # get index of letter in the alphabet\n",
    "    ind = alphabet.index(letter)\n",
    "    \n",
    "    print('alph index: ', ind) if debug else ''\n",
    "    \n",
    "    # get remainder of the shift / 26 to see how much it gets shifted finally\n",
    "    remainder = shift % 26\n",
    "    \n",
    "    print('remainder: ', remainder) if debug else ''\n",
    "    \n",
    "    # new index is the original index + the remainding index\n",
    "    new_ind = ind + remainder\n",
    "    \n",
    "    print('new ind: ', new_ind) if debug else ''\n",
    "    \n",
    "    # if new_index is above the length of the alphabet, then subtract the length of the alphabet\n",
    "    if new_ind > 25:\n",
    "        new_ind = new_ind - 26\n",
    "        print('alt new_ind: ', new_ind) if debug else ''\n",
    "    \n",
    "    # return shifted letter with new index\n",
    "    shifted = alphabet[new_ind]\n",
    "    \n",
    "    return shifted"
   ]
  },
  {
   "cell_type": "code",
   "execution_count": 214,
   "metadata": {
    "collapsed": false
   },
   "outputs": [
    {
     "name": "stdout",
     "output_type": "stream",
     "text": [
      "alph index:  22\n",
      "remainder:  16\n",
      "new ind:  38\n",
      "alt new_ind:  12\n"
     ]
    },
    {
     "data": {
      "text/plain": [
       "'m'"
      ]
     },
     "execution_count": 214,
     "metadata": {},
     "output_type": "execute_result"
    }
   ],
   "source": [
    "alph_shifter('x', 120)"
   ]
  },
  {
   "cell_type": "code",
   "execution_count": 223,
   "metadata": {
    "collapsed": false
   },
   "outputs": [
    {
     "name": "stdout",
     "output_type": "stream",
     "text": [
      "northpold objdct storagd  501 ghkmaihex-hucxvm-lmhktzx-\n"
     ]
    }
   ],
   "source": [
    "for r in rooms:\n",
    "    \n",
    "    res = decipher(r.name_raw, r.sector_id)\n",
    "    \n",
    "    if re.search('north', res):\n",
    "        print(res, r.sector_id, r.name_raw)"
   ]
  },
  {
   "cell_type": "markdown",
   "metadata": {},
   "source": [
    "x, 644\n",
    "x, 900\n",
    "x, 971\n",
    "w, 784\n",
    "w, 595\n",
    "x, 533"
   ]
  },
  {
   "cell_type": "code",
   "execution_count": null,
   "metadata": {
    "collapsed": true
   },
   "outputs": [],
   "source": []
  }
 ],
 "metadata": {
  "anaconda-cloud": {},
  "kernelspec": {
   "display_name": "Python [default]",
   "language": "python",
   "name": "python3"
  },
  "language_info": {
   "codemirror_mode": {
    "name": "ipython",
    "version": 3
   },
   "file_extension": ".py",
   "mimetype": "text/x-python",
   "name": "python",
   "nbconvert_exporter": "python",
   "pygments_lexer": "ipython3",
   "version": "3.5.2"
  }
 },
 "nbformat": 4,
 "nbformat_minor": 1
}
