{
 "cells": [
  {
   "cell_type": "code",
   "execution_count": 1,
   "metadata": {
    "collapsed": true
   },
   "outputs": [],
   "source": [
    "import re"
   ]
  },
  {
   "cell_type": "code",
   "execution_count": 2,
   "metadata": {
    "collapsed": false
   },
   "outputs": [],
   "source": [
    "class roomCode(object):\n",
    "    \n",
    "    def __init__(self, code_input):\n",
    "        \n",
    "        self.code_string = code_input\n",
    "        \n",
    "        # get checksum value by searching for string between brackets\n",
    "        # and then removing the brackets\n",
    "        self.checksum = re.sub('\\[|\\]', '', re.findall('\\[.*\\]', code_input)[0])\n",
    "        \n",
    "        # find encrypted name value w/ regex pattern and then remove \"-\"\n",
    "        self.name = re.sub('-', '', re.match('([A-z]+\\-)+', code_input).group())\n",
    "        \n",
    "        # find sector_id via regex pattern\n",
    "        self.sector_id = int(re.search('\\d+', code_input).group())\n",
    "        \n",
    "        self.checksum_source = self.get_count_string()\n",
    "        \n",
    "        if self.checksum_source == self.checksum:\n",
    "            self.valid = True\n",
    "        else:\n",
    "            self.valid = False\n",
    "        \n",
    "    def get_count_string(self):\n",
    "        \n",
    "        d = {i : self.name.count(i) for i in self.name}\n",
    "        \n",
    "        sort_groups = set(val for val in d.values())\n",
    "        \n",
    "        collector = {}\n",
    "        for g in sort_groups:\n",
    "            collector[g] = []\n",
    "            for key, val in d.items():\n",
    "                if val == g:\n",
    "                    collector[g].append(key)\n",
    "            \n",
    "        for key, val in collector.items():\n",
    "            collector[key] = ''.join(sorted(val))\n",
    "    \n",
    "        sort_list = sorted(collector)\n",
    "        sort_list.reverse()\n",
    "\n",
    "        return ''.join([collector[i] for i in sort_list])[0:5]\n",
    "            "
   ]
  },
  {
   "cell_type": "code",
   "execution_count": 3,
   "metadata": {
    "collapsed": true
   },
   "outputs": [],
   "source": [
    "infile = open('day4_input.txt').read().splitlines()"
   ]
  },
  {
   "cell_type": "code",
   "execution_count": 4,
   "metadata": {
    "collapsed": false
   },
   "outputs": [],
   "source": [
    "code_list = [roomCode(i) for i in infile]"
   ]
  },
  {
   "cell_type": "code",
   "execution_count": 5,
   "metadata": {
    "collapsed": true
   },
   "outputs": [],
   "source": [
    "sector_id_sum = 0\n",
    "for code in code_list:\n",
    "    if code.valid:\n",
    "        sector_id_sum += code.sector_id"
   ]
  },
  {
   "cell_type": "code",
   "execution_count": 6,
   "metadata": {
    "collapsed": false
   },
   "outputs": [
    {
     "data": {
      "text/plain": [
       "137896"
      ]
     },
     "execution_count": 6,
     "metadata": {},
     "output_type": "execute_result"
    }
   ],
   "source": [
    "sector_id_sum"
   ]
  }
 ],
 "metadata": {
  "anaconda-cloud": {},
  "kernelspec": {
   "display_name": "Python [default]",
   "language": "python",
   "name": "python3"
  },
  "language_info": {
   "codemirror_mode": {
    "name": "ipython",
    "version": 3
   },
   "file_extension": ".py",
   "mimetype": "text/x-python",
   "name": "python",
   "nbconvert_exporter": "python",
   "pygments_lexer": "ipython3",
   "version": "3.5.2"
  }
 },
 "nbformat": 4,
 "nbformat_minor": 1
}
